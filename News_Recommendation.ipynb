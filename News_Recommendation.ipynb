{
 "cells": [
  {
   "cell_type": "markdown",
   "id": "95043d75",
   "metadata": {},
   "source": [
    "# Section I"
   ]
  },
  {
   "cell_type": "markdown",
   "id": "9665280b",
   "metadata": {},
   "source": [
    "**Import Library**"
   ]
  },
  {
   "cell_type": "code",
   "execution_count": 1,
   "id": "7f5ec53d",
   "metadata": {},
   "outputs": [],
   "source": [
    "import pandas as pd\n",
    "import numpy as np\n",
    "import matplotlib.pyplot as plt\n",
    "import seaborn as sns\n",
    "%matplotlib inline\n",
    "import pyLDAvis\n",
    "from pyLDAvis import gensim_models\n",
    "from IPython.core.display import display, HTML\n",
    "from IPython.display import display\n",
    "from sklearn.feature_extraction.text import TfidfVectorizer\n",
    "import re\n",
    "import nltk.corpus\n",
    "#nltk.download('stopwords')\n",
    "from nltk.corpus import stopwords\n",
    "#nltk.download('words')\n",
    "words = set(nltk.corpus.words.words())\n",
    "from nltk.tokenize import word_tokenize #Stemming\n",
    "import nltk\n",
    "#nltk.download('punkt')\n",
    "#nltk.download('wordnet')\n",
    "from textblob import TextBlob, Word #Lammitizer\n",
    "import warnings\n",
    "warnings.simplefilter('ignore')\n",
    "from wordcloud import WordCloud\n",
    "import plotly.express as px\n",
    "from nltk.sentiment.vader import SentimentIntensityAnalyzer\n",
    "from nltk.tokenize import word_tokenize, sent_tokenize\n",
    "from nltk.stem import WordNetLemmatizer\n",
    "\n",
    "import gensim\n",
    "import gensim.corpora as corpora\n",
    "from nltk.util import ngrams\n",
    "from gensim import corpora\n",
    "from gensim.corpora import Dictionary\n",
    "from gensim.models.coherencemodel import CoherenceModel\n",
    "from gensim.models.ldamodel import LdaModel\n",
    "from sklearn.decomposition import LatentDirichletAllocation\n",
    "import spacy\n",
    "import spacy.cli\n",
    "#spacy.cli.download(\"en_core_web_md\")\n",
    "nlp = spacy.load(\"en_core_web_md\")\n",
    "\n",
    "#Model Building for Text Classification\n",
    "from sklearn.model_selection import train_test_split\n",
    "from sklearn.preprocessing import LabelEncoder\n",
    "from sklearn.naive_bayes import MultinomialNB\n",
    "from sklearn import metrics\n",
    "from sklearn.ensemble import RandomForestClassifier\n",
    "from sklearn.linear_model import LogisticRegression\n",
    "from sklearn.metrics import accuracy_score\n",
    "from sklearn.metrics import classification_report\n",
    "from sklearn.metrics import confusion_matrix\n",
    "from sklearn.metrics import roc_auc_score\n",
    "from sklearn.metrics import roc_curve\n",
    "from sklearn.metrics import auc\n",
    "\n",
    "import warnings\n",
    "warnings.filterwarnings('ignore')"
   ]
  },
  {
   "cell_type": "markdown",
   "id": "385106d7",
   "metadata": {},
   "source": [
    "**Load Data Set**"
   ]
  },
  {
   "cell_type": "code",
   "execution_count": 2,
   "id": "a165b188",
   "metadata": {},
   "outputs": [
    {
     "data": {
      "text/html": [
       "<div>\n",
       "<style scoped>\n",
       "    .dataframe tbody tr th:only-of-type {\n",
       "        vertical-align: middle;\n",
       "    }\n",
       "\n",
       "    .dataframe tbody tr th {\n",
       "        vertical-align: top;\n",
       "    }\n",
       "\n",
       "    .dataframe thead th {\n",
       "        text-align: right;\n",
       "    }\n",
       "</style>\n",
       "<table border=\"1\" class=\"dataframe\">\n",
       "  <thead>\n",
       "    <tr style=\"text-align: right;\">\n",
       "      <th></th>\n",
       "      <th>Unnamed: 0</th>\n",
       "      <th>id</th>\n",
       "      <th>title</th>\n",
       "      <th>publication</th>\n",
       "      <th>author</th>\n",
       "      <th>date</th>\n",
       "      <th>year</th>\n",
       "      <th>month</th>\n",
       "      <th>url</th>\n",
       "      <th>content</th>\n",
       "    </tr>\n",
       "  </thead>\n",
       "  <tbody>\n",
       "    <tr>\n",
       "      <th>0</th>\n",
       "      <td>0</td>\n",
       "      <td>17283</td>\n",
       "      <td>House Republicans Fret About Winning Their Hea...</td>\n",
       "      <td>New York Times</td>\n",
       "      <td>Carl Hulse</td>\n",
       "      <td>2016-12-31</td>\n",
       "      <td>2016.0</td>\n",
       "      <td>12.0</td>\n",
       "      <td>NaN</td>\n",
       "      <td>WASHINGTON  —   Congressional Republicans have...</td>\n",
       "    </tr>\n",
       "    <tr>\n",
       "      <th>1</th>\n",
       "      <td>1</td>\n",
       "      <td>17284</td>\n",
       "      <td>Rift Between Officers and Residents as Killing...</td>\n",
       "      <td>New York Times</td>\n",
       "      <td>Benjamin Mueller and Al Baker</td>\n",
       "      <td>2017-06-19</td>\n",
       "      <td>2017.0</td>\n",
       "      <td>6.0</td>\n",
       "      <td>NaN</td>\n",
       "      <td>After the bullet shells get counted, the blood...</td>\n",
       "    </tr>\n",
       "    <tr>\n",
       "      <th>2</th>\n",
       "      <td>2</td>\n",
       "      <td>17285</td>\n",
       "      <td>Tyrus Wong, ‘Bambi’ Artist Thwarted by Racial ...</td>\n",
       "      <td>New York Times</td>\n",
       "      <td>Margalit Fox</td>\n",
       "      <td>2017-01-06</td>\n",
       "      <td>2017.0</td>\n",
       "      <td>1.0</td>\n",
       "      <td>NaN</td>\n",
       "      <td>When Walt Disney’s “Bambi” opened in 1942, cri...</td>\n",
       "    </tr>\n",
       "    <tr>\n",
       "      <th>3</th>\n",
       "      <td>3</td>\n",
       "      <td>17286</td>\n",
       "      <td>Among Deaths in 2016, a Heavy Toll in Pop Musi...</td>\n",
       "      <td>New York Times</td>\n",
       "      <td>William McDonald</td>\n",
       "      <td>2017-04-10</td>\n",
       "      <td>2017.0</td>\n",
       "      <td>4.0</td>\n",
       "      <td>NaN</td>\n",
       "      <td>Death may be the great equalizer, but it isn’t...</td>\n",
       "    </tr>\n",
       "    <tr>\n",
       "      <th>4</th>\n",
       "      <td>4</td>\n",
       "      <td>17287</td>\n",
       "      <td>Kim Jong-un Says North Korea Is Preparing to T...</td>\n",
       "      <td>New York Times</td>\n",
       "      <td>Choe Sang-Hun</td>\n",
       "      <td>2017-01-02</td>\n",
       "      <td>2017.0</td>\n",
       "      <td>1.0</td>\n",
       "      <td>NaN</td>\n",
       "      <td>SEOUL, South Korea  —   North Korea’s leader, ...</td>\n",
       "    </tr>\n",
       "  </tbody>\n",
       "</table>\n",
       "</div>"
      ],
      "text/plain": [
       "   Unnamed: 0     id                                              title  \\\n",
       "0           0  17283  House Republicans Fret About Winning Their Hea...   \n",
       "1           1  17284  Rift Between Officers and Residents as Killing...   \n",
       "2           2  17285  Tyrus Wong, ‘Bambi’ Artist Thwarted by Racial ...   \n",
       "3           3  17286  Among Deaths in 2016, a Heavy Toll in Pop Musi...   \n",
       "4           4  17287  Kim Jong-un Says North Korea Is Preparing to T...   \n",
       "\n",
       "      publication                         author        date    year  month  \\\n",
       "0  New York Times                     Carl Hulse  2016-12-31  2016.0   12.0   \n",
       "1  New York Times  Benjamin Mueller and Al Baker  2017-06-19  2017.0    6.0   \n",
       "2  New York Times                   Margalit Fox  2017-01-06  2017.0    1.0   \n",
       "3  New York Times               William McDonald  2017-04-10  2017.0    4.0   \n",
       "4  New York Times                  Choe Sang-Hun  2017-01-02  2017.0    1.0   \n",
       "\n",
       "   url                                            content  \n",
       "0  NaN  WASHINGTON  —   Congressional Republicans have...  \n",
       "1  NaN  After the bullet shells get counted, the blood...  \n",
       "2  NaN  When Walt Disney’s “Bambi” opened in 1942, cri...  \n",
       "3  NaN  Death may be the great equalizer, but it isn’t...  \n",
       "4  NaN  SEOUL, South Korea  —   North Korea’s leader, ...  "
      ]
     },
     "execution_count": 2,
     "metadata": {},
     "output_type": "execute_result"
    }
   ],
   "source": [
    "df = pd.read_csv(\"articles1.csv\")\n",
    "df1 = pd.read_csv(\"articles2.csv\")\n",
    "df2 = pd.read_csv(\"articles3.csv\")\n",
    "frames = [df, df1, df2]\n",
    "df_r = pd.concat(frames)\n",
    "df_r.head()"
   ]
  },
  {
   "cell_type": "code",
   "execution_count": 3,
   "id": "00b84dfc",
   "metadata": {},
   "outputs": [
    {
     "data": {
      "text/plain": [
       "0    House Republicans Fret About Winning Their Hea...\n",
       "1    Rift Between Officers and Residents as Killing...\n",
       "2    Tyrus Wong, ‘Bambi’ Artist Thwarted by Racial ...\n",
       "3    Among Deaths in 2016, a Heavy Toll in Pop Musi...\n",
       "4    Kim Jong-un Says North Korea Is Preparing to T...\n",
       "Name: title, dtype: object"
      ]
     },
     "execution_count": 3,
     "metadata": {},
     "output_type": "execute_result"
    }
   ],
   "source": [
    "df[\"title\"].head()"
   ]
  },
  {
   "cell_type": "code",
   "execution_count": 4,
   "id": "caf4e27c",
   "metadata": {},
   "outputs": [
    {
     "data": {
      "text/plain": [
       "0    WASHINGTON  —   Congressional Republicans have...\n",
       "1    After the bullet shells get counted, the blood...\n",
       "2    When Walt Disney’s “Bambi” opened in 1942, cri...\n",
       "3    Death may be the great equalizer, but it isn’t...\n",
       "4    SEOUL, South Korea  —   North Korea’s leader, ...\n",
       "Name: content, dtype: object"
      ]
     },
     "execution_count": 4,
     "metadata": {},
     "output_type": "execute_result"
    }
   ],
   "source": [
    "df[\"content\"].head()"
   ]
  },
  {
   "cell_type": "markdown",
   "id": "76d978fe",
   "metadata": {},
   "source": [
    "**Exploratory Data Analysis**"
   ]
  },
  {
   "cell_type": "code",
   "execution_count": 5,
   "id": "8768c761",
   "metadata": {},
   "outputs": [
    {
     "name": "stdout",
     "output_type": "stream",
     "text": [
      "<class 'pandas.core.frame.DataFrame'>\n",
      "Int64Index: 142570 entries, 0 to 42570\n",
      "Data columns (total 10 columns):\n",
      " #   Column       Non-Null Count   Dtype  \n",
      "---  ------       --------------   -----  \n",
      " 0   Unnamed: 0   142570 non-null  int64  \n",
      " 1   id           142570 non-null  int64  \n",
      " 2   title        142568 non-null  object \n",
      " 3   publication  142570 non-null  object \n",
      " 4   author       126694 non-null  object \n",
      " 5   date         139929 non-null  object \n",
      " 6   year         139929 non-null  float64\n",
      " 7   month        139929 non-null  float64\n",
      " 8   url          85559 non-null   object \n",
      " 9   content      142570 non-null  object \n",
      "dtypes: float64(2), int64(2), object(6)\n",
      "memory usage: 12.0+ MB\n"
     ]
    }
   ],
   "source": [
    "df_r.info()"
   ]
  },
  {
   "cell_type": "code",
   "execution_count": 6,
   "id": "4ef3ed19",
   "metadata": {},
   "outputs": [
    {
     "data": {
      "text/plain": [
       "(142570, 10)"
      ]
     },
     "execution_count": 6,
     "metadata": {},
     "output_type": "execute_result"
    }
   ],
   "source": [
    "df_r.shape"
   ]
  },
  {
   "cell_type": "code",
   "execution_count": 7,
   "id": "caf0775b",
   "metadata": {},
   "outputs": [
    {
     "data": {
      "text/plain": [
       "Unnamed: 0         0\n",
       "id                 0\n",
       "title              2\n",
       "publication        0\n",
       "author         15876\n",
       "date            2641\n",
       "year            2641\n",
       "month           2641\n",
       "url            57011\n",
       "content            0\n",
       "dtype: int64"
      ]
     },
     "execution_count": 7,
     "metadata": {},
     "output_type": "execute_result"
    }
   ],
   "source": [
    "df_r.isnull().sum()"
   ]
  },
  {
   "cell_type": "code",
   "execution_count": 8,
   "id": "bc54bc57",
   "metadata": {},
   "outputs": [
    {
     "name": "stdout",
     "output_type": "stream",
     "text": [
      "253\n",
      "2517\n"
     ]
    },
    {
     "data": {
      "text/plain": [
       "(142568, 2)"
      ]
     },
     "execution_count": 8,
     "metadata": {},
     "output_type": "execute_result"
    }
   ],
   "source": [
    "df_r.drop([\"Unnamed: 0\",\"author\",\"date\",\"year\",\"month\",\"id\",\"url\",\"publication\"],inplace=True,axis=1)\n",
    "df_null = df_r[df_r.title.isna()]\n",
    "for cont in df_null[\"content\"]:\n",
    "    print(len(cont))\n",
    "df_r.dropna(inplace=True)\n",
    "df_r.shape"
   ]
  },
  {
   "cell_type": "markdown",
   "id": "48fb3e7e",
   "metadata": {},
   "source": [
    "# Section II"
   ]
  },
  {
   "cell_type": "markdown",
   "id": "e57b3dbc",
   "metadata": {},
   "source": [
    "# **Data Pre-processing**"
   ]
  },
  {
   "cell_type": "markdown",
   "id": "7bd74a0e",
   "metadata": {},
   "source": [
    "**Data Cleaning, Tokenization, BiGram, TriGram and lemmatization on title field**"
   ]
  },
  {
   "cell_type": "code",
   "execution_count": 10,
   "id": "d747d2be",
   "metadata": {},
   "outputs": [
    {
     "name": "stdout",
     "output_type": "stream",
     "text": [
      "Cleaning is done\n",
      "Tokenization on title is done\n",
      "Lemmatization on title is done\n",
      "Stop word removal after lemmatization is also done\n",
      "Preprocessing is completed for title field\n"
     ]
    }
   ],
   "source": [
    "def data_preprcessing_title(text_title):\n",
    "    \n",
    "    #Lower case all texts\n",
    "    text_title = text_title.lower() \n",
    "    \n",
    "    #remove unicodes\n",
    "    text_title = re.sub(r\"(@\\[A-Za-z0-9]+)|([^0-9A-Za-z \\t])|(\\w+:\\/\\/\\S+)|^rt|http.+?\", \"\", text_title) \n",
    "    \n",
    "    #remove stop words\n",
    "    stop = stopwords.words('english')\n",
    "    \n",
    "    #Most repeatative words also need to remove as these are biasing the topics, found these from topic modeling words\n",
    "    extended_stopwords = ['trump', 'said', 'clinton','campaign','hillary','donald','take','make','would',\n",
    "                          'say', 'could', 'be','like','time','year','people','know', 'good', 'get', 'do', 'done', \n",
    "                          'try', 'many', 'some', 'nice', 'thank', 'think', 'see','rather', 'easy', 'easily', 'lot',\n",
    "                          'lack', 'make', 'want', 'seem', 'run', 'need', 'even', 'right','line', 'also',\n",
    "                          'may', 'come']\n",
    "    text_title1 = \" \".join(word for word in text_title.split() if word not in (stop))\n",
    "    text_title = \" \".join(word for word in text_title1.split() if word not in (extended_stopwords))\n",
    "  \n",
    "    #remove digits\n",
    "    text_title = ''.join((xt for xt in text_title if not xt.isdigit()))\n",
    "    \n",
    "    #remove short words < len 2\n",
    "    text_title = ' '.join(wd for wd in text_title.split() if len(wd)>3)\n",
    "    \n",
    "    #remove salutaions\n",
    "    salutation = ['miss','mr','ms','mrs']\n",
    "    text_title = \" \".join(wrd for wrd in text_title.split() if wrd not in (salutation))\n",
    "\n",
    "    return text_title\n",
    "\n",
    "#Convert texts to tokens\n",
    "def tokenize(text_title):\n",
    "    for ln in text_title:\n",
    "        ln = gensim.utils.simple_preprocess(str(ln), deacc=True) #simple_preprocess() Convert text into a list of tokens    \n",
    "        yield(ln) \n",
    "        \n",
    "#Lemmatize the tags\n",
    "def lemmatize(text_title,allowed_postags=['NOUN', 'ADJ', 'VERB', 'ADV']):\n",
    "    text_title = [bigram_model[doc] for doc in text_title]\n",
    "    text_title = [trigram_model[bigram_model[doc]] for doc in text_title]\n",
    "    clean_txt = []\n",
    "    nlp = spacy.load('en_core_web_md', disable=['parser','ner']) #'en_core_web_md' based on text size)\n",
    "    for lne in text_title:\n",
    "        dc = nlp(\" \".join(lne)) \n",
    "        clean_txt.append([token.lemma_ for token in dc if token.pos_ in allowed_postags])         \n",
    "    return clean_txt\n",
    "\n",
    "#Remove stop words after lemmatization as sometimes post lemmatization it creates some stop words\n",
    "stop = stopwords.words('english')\n",
    "extended_stopwords = ['s','say','take','make','would', 'say', 'could', 'be','like','time','year','people','know',\n",
    "                      'go', 'get', 'do', 'done', 'try', 'many', 'some', 'nice', 'thank', 'think', 'see','rather', \n",
    "                      'easy', 'easily', 'lot', 'lack', 'make', 'want', 'seem', 'run', 'need', 'even', 'right','line',\n",
    "                      'even', 'also', 'may', 'take', 'come','miss','mr','ms','mrs','trump', 'said', 'clinton','campaign',\n",
    "                      'hillary','donald']\n",
    "def remove_stop_words(sentence):\n",
    "    for txt in sentence:\n",
    "        clean_sentence=([wrd for wrd in txt if wrd.lower() not in stop])\n",
    "        clean_sentence=([wrd for wrd in txt if wrd.lower() not in extended_stopwords])\n",
    "        yield(clean_sentence)\n",
    "\n",
    "#Function calling\n",
    "convert = lambda x: '%.0f' % x if isinstance(x,float) else x #presence of floating numbers, so removing these also\n",
    "df_r['title'] = df_r['title'].apply(convert)\n",
    "df_r['title'] = df_r['title'].apply(data_preprcessing_title) \n",
    "print(\"Cleaning is done\")\n",
    "\n",
    "d_list = df_r[\"title\"].values.tolist()\n",
    "word_lists = list(tokenize(d_list))\n",
    "print(\"Tokenization on title is done\")\n",
    "\n",
    "#Building Bigram and Trigram models\n",
    "bigram = gensim.models.Phrases(word_lists, min_count=5, threshold=100) # higher threshold fewer phrases.\n",
    "trigram = gensim.models.Phrases(bigram[word_lists], threshold=100)  \n",
    "bigram_model = gensim.models.phrases.Phraser(bigram) #building the model now\n",
    "trigram_model = gensim.models.phrases.Phraser(trigram)\n",
    "clean_df= lemmatize(word_lists)  # processed Text Data!\n",
    "print(\"Lemmatization on title is done\")\n",
    "clean_df= list(remove_stop_words(clean_df))\n",
    "print(\"Stop word removal after lemmatization is also done\")\n",
    "print(\"Preprocessing is completed for title field\")"
   ]
  },
  {
   "cell_type": "markdown",
   "id": "9e38dc1a",
   "metadata": {},
   "source": [
    "**For content we have a separate data processing code because we are not removing any repeatative extended words due to no demand of it**"
   ]
  },
  {
   "cell_type": "code",
   "execution_count": 11,
   "id": "697100ce",
   "metadata": {},
   "outputs": [
    {
     "name": "stdout",
     "output_type": "stream",
     "text": [
      "Cleaning is completed\n",
      "Tokenization and Lemmatization is completed\n",
      "Stop word removal after lemmatization is completed\n",
      "Pre-processing is completed for content field\n"
     ]
    }
   ],
   "source": [
    "def data_preprcessing_content(text_content):\n",
    "    \n",
    "    #Lower case the letters\n",
    "    text_content = text_content.lower()\n",
    "    \n",
    "    #remove unicodes\n",
    "    text_content = re.sub(r\"(@\\[A-Za-z0-9]+)|([^0-9A-Za-z \\t])|(\\w+:\\/\\/\\S+)|^rt|http.+?\", \"\", text_content)\n",
    "    \n",
    "    #remove stop words\n",
    "    stop = stopwords.words('english')\n",
    "    text_content = \" \".join(wrd for wrd in text_content.split() if wrd not in (stop))\n",
    "  \n",
    "    #remove digits\n",
    "    text_content = ''.join((xt for xt in text_content if not xt.isdigit()))\n",
    "    \n",
    "    #remove short words\n",
    "    text_content = ' '.join(wrd for wrd in text_content.split() if len(wrd)>3)\n",
    "    \n",
    "    #remove salutaions\n",
    "    salutation = ['miss','mr','ms','mrs']\n",
    "    text_content = \" \".join(wrd for wrd in text_content.split() if wrd not in (salutation))\n",
    "\n",
    "    return text_content\n",
    "\n",
    "#convert the POS tags to the WordNet\n",
    "def postag(text_content):\n",
    "    if text_content.startswith('J'):\n",
    "        return wordnet.ADJ\n",
    "    elif text_content.startswith('V'):\n",
    "        return wordnet.VERB\n",
    "    elif text_content.startswith('N'):\n",
    "        return wordnet.NOUN\n",
    "    elif text_content.startswith('R'):\n",
    "        return wordnet.ADV\n",
    "    else:\n",
    "        return wordnet.NOUN # it will keep noun as bydefault\n",
    "\n",
    "# Define a function to lemmatize a sentence\n",
    "def lemmatize_sentence(text_content):\n",
    "    tokenized_sent = nltk.word_tokenize(text_content)\n",
    "    tagged_sent = nltk.pos_tag(tokenized_sent)\n",
    "    lemmatized_sent = [lemmatizer.lemmatize(wrd, postag(pos)) for wrd, pos in tagged_sent]\n",
    "    return ' '.join(lemmatized_sent)\n",
    "\n",
    "#Remove stopwords after lemmatization\n",
    "def remove_stopword(text_content):\n",
    "    stop = stopwords.words('english')\n",
    "    text_content = \" \".join(wrd for wrd in text_content.split() if wrd not in (stop))\n",
    "    return text_content\n",
    "\n",
    "#Function calling\n",
    "df_r['content'] = df_r['content'].apply(data_preprcessing_content)\n",
    "print(\"Cleaning is completed\")\n",
    "lemmatizer = WordNetLemmatizer()\n",
    "from nltk.corpus import wordnet\n",
    "df_r['content'] = df_r['content'].apply(lemmatize_sentence)\n",
    "print(\"Tokenization and Lemmatization is completed\")\n",
    "df_r['content'] = df_r['content'].apply(remove_stopword)\n",
    "print(\"Stop word removal after lemmatization is completed\")\n",
    "print(\"Pre-processing is completed for content field\")"
   ]
  },
  {
   "cell_type": "markdown",
   "id": "4c514be8",
   "metadata": {},
   "source": [
    "# Section III"
   ]
  },
  {
   "cell_type": "markdown",
   "id": "e273e587",
   "metadata": {},
   "source": [
    "# Topic Modeling"
   ]
  },
  {
   "cell_type": "markdown",
   "id": "c45efbff",
   "metadata": {},
   "source": [
    "**Experiment**"
   ]
  },
  {
   "cell_type": "markdown",
   "id": "67b5d6ec",
   "metadata": {},
   "source": [
    "**Now Build the topic model on Title column and extract the topic**"
   ]
  },
  {
   "cell_type": "code",
   "execution_count": 12,
   "id": "7098621d",
   "metadata": {},
   "outputs": [
    {
     "name": "stdout",
     "output_type": "stream",
     "text": [
      "Topic: 0 \n",
      "Words: 0.029*\"vote\" + 0.014*\"fall\" + 0.013*\"love\" + 0.012*\"leave\" + 0.012*\"review\" + 0.012*\"brexit\" + 0.010*\"money\" + 0.009*\"challenge\" + 0.009*\"issue\" + 0.009*\"food\"\n",
      "Topic: 1 \n",
      "Words: 0.023*\"first\" + 0.020*\"talk\" + 0.016*\"lose\" + 0.015*\"thing\" + 0.015*\"meet\" + 0.015*\"political\" + 0.014*\"work\" + 0.012*\"president\" + 0.011*\"test\" + 0.010*\"pick\"\n",
      "Topic: 2 \n",
      "Words: 0.031*\"attack\" + 0.028*\"police\" + 0.016*\"shoot\" + 0.014*\"kill\" + 0.014*\"look\" + 0.013*\"report\" + 0.012*\"break\" + 0.012*\"source\" + 0.012*\"arrest\" + 0.012*\"dead\"\n",
      "Topic: 3 \n",
      "Words: 0.034*\"woman\" + 0.026*\"show\" + 0.026*\"explain\" + 0.014*\"government\" + 0.010*\"photo\" + 0.010*\"well\" + 0.010*\"rally\" + 0.009*\"head\" + 0.009*\"sign\" + 0.009*\"video\"\n",
      "Topic: 4 \n",
      "Words: 0.017*\"become\" + 0.015*\"high\" + 0.012*\"move\" + 0.011*\"trade\" + 0.011*\"deal\" + 0.010*\"fight\" + 0.010*\"health\" + 0.010*\"plan\" + 0.009*\"share\" + 0.008*\"stand\"\n",
      "Topic: 5 \n",
      "Words: 0.023*\"back\" + 0.021*\"still\" + 0.016*\"watch\" + 0.010*\"speech\" + 0.010*\"last\" + 0.010*\"close\" + 0.010*\"apple\" + 0.010*\"mean\" + 0.009*\"wrong\" + 0.009*\"judge\"\n",
      "Topic: 6 \n",
      "Words: 0.020*\"die\" + 0.018*\"case\" + 0.016*\"republican\" + 0.015*\"really\" + 0.013*\"voter\" + 0.013*\"problem\" + 0.013*\"election\" + 0.013*\"use\" + 0.012*\"history\" + 0.012*\"black\"\n",
      "Topic: 7 \n",
      "Words: 0.020*\"debate\" + 0.014*\"start\" + 0.014*\"win\" + 0.013*\"stop\" + 0.012*\"presidential\" + 0.012*\"exclusive\" + 0.011*\"play\" + 0.011*\"islamic_state\" + 0.010*\"state\" + 0.010*\"battle\"\n",
      "Topic: 8 \n",
      "Words: 0.020*\"help\" + 0.019*\"change\" + 0.017*\"keep\" + 0.013*\"policy\" + 0.012*\"home\" + 0.011*\"next\" + 0.011*\"week\" + 0.011*\"probe\" + 0.010*\"return\" + 0.010*\"order\"\n",
      "Topic: 9 \n",
      "Words: 0.025*\"find\" + 0.024*\"here\" + 0.021*\"tell\" + 0.016*\"death\" + 0.016*\"kill\" + 0.014*\"story\" + 0.014*\"happen\" + 0.011*\"live\" + 0.010*\"life\" + 0.009*\"ask\"\n"
     ]
    }
   ],
   "source": [
    "# Mapping between word and a integer value which represent that word\n",
    "map_int = corpora.Dictionary(clean_df)\n",
    "\n",
    "# Create Corpus\n",
    "corpus = [map_int.doc2bow(text_title) for text_title in clean_df]\n",
    "\n",
    "# Build LDA model\n",
    "lda_model = gensim.models.LdaMulticore(corpus, num_topics=10, id2word=map_int, passes=2, workers=2)\n",
    "\n",
    "#Show the words of each topic along with scores\n",
    "for idnx, topic in lda_model.print_topics(-1):\n",
    "    print('Topic: {} \\nWords: {}'.format(idnx, topic))"
   ]
  },
  {
   "cell_type": "markdown",
   "id": "a0085007",
   "metadata": {},
   "source": [
    "**Assign the dominant topic to each associated text of the dataframe\n",
    "based on probability score contribution**"
   ]
  },
  {
   "cell_type": "code",
   "execution_count": 15,
   "id": "51892dfd",
   "metadata": {},
   "outputs": [
    {
     "name": "stdout",
     "output_type": "stream",
     "text": [
      "Topic assignment to each text is completed\n"
     ]
    },
    {
     "data": {
      "text/html": [
       "<div>\n",
       "<style scoped>\n",
       "    .dataframe tbody tr th:only-of-type {\n",
       "        vertical-align: middle;\n",
       "    }\n",
       "\n",
       "    .dataframe tbody tr th {\n",
       "        vertical-align: top;\n",
       "    }\n",
       "\n",
       "    .dataframe thead th {\n",
       "        text-align: right;\n",
       "    }\n",
       "</style>\n",
       "<table border=\"1\" class=\"dataframe\">\n",
       "  <thead>\n",
       "    <tr style=\"text-align: right;\">\n",
       "      <th></th>\n",
       "      <th>Doc_No</th>\n",
       "      <th>Dominant_Topic</th>\n",
       "      <th>contribution_score</th>\n",
       "      <th>Topic_Word_List</th>\n",
       "      <th>Text</th>\n",
       "    </tr>\n",
       "  </thead>\n",
       "  <tbody>\n",
       "    <tr>\n",
       "      <th>0</th>\n",
       "      <td>0</td>\n",
       "      <td>7.0</td>\n",
       "      <td>0.3668</td>\n",
       "      <td>debate, start, win, stop, presidential, exclus...</td>\n",
       "      <td>[house, republicans, fret, winning, health, ca...</td>\n",
       "    </tr>\n",
       "    <tr>\n",
       "      <th>1</th>\n",
       "      <td>1</td>\n",
       "      <td>7.0</td>\n",
       "      <td>0.1837</td>\n",
       "      <td>debate, start, win, stop, presidential, exclus...</td>\n",
       "      <td>[rift, officers, residents, killings, persist,...</td>\n",
       "    </tr>\n",
       "    <tr>\n",
       "      <th>2</th>\n",
       "      <td>2</td>\n",
       "      <td>4.0</td>\n",
       "      <td>0.2808</td>\n",
       "      <td>become, high, move, trade, deal, fight, health...</td>\n",
       "      <td>[tyrus, wong, bambi, artist, thwarted, racial,...</td>\n",
       "    </tr>\n",
       "  </tbody>\n",
       "</table>\n",
       "</div>"
      ],
      "text/plain": [
       "   Doc_No  Dominant_Topic  contribution_score  \\\n",
       "0       0             7.0              0.3668   \n",
       "1       1             7.0              0.1837   \n",
       "2       2             4.0              0.2808   \n",
       "\n",
       "                                     Topic_Word_List  \\\n",
       "0  debate, start, win, stop, presidential, exclus...   \n",
       "1  debate, start, win, stop, presidential, exclus...   \n",
       "2  become, high, move, trade, deal, fight, health...   \n",
       "\n",
       "                                                Text  \n",
       "0  [house, republicans, fret, winning, health, ca...  \n",
       "1  [rift, officers, residents, killings, persist,...  \n",
       "2  [tyrus, wong, bambi, artist, thwarted, racial,...  "
      ]
     },
     "execution_count": 15,
     "metadata": {},
     "output_type": "execute_result"
    }
   ],
   "source": [
    "def dominant_topic(ldamodel=None, corpus=corpus, texts=d_list):\n",
    "    topics_df = pd.DataFrame()\n",
    "\n",
    "    # Get main topic in each document based on word contribtion scoring\n",
    "    for i, row_list in enumerate(ldamodel[corpus]):\n",
    "        row = row_list[0] if ldamodel.per_word_topics else row_list            \n",
    "        row = sorted(row, key=lambda x: (x[1]), reverse=True) #print individual raws\n",
    "        # Get the Dominant topic and Keywords\n",
    "        for j, (topic_num, prop_topic) in enumerate(row):\n",
    "            if j == 0:  # => dominant topic\n",
    "                wp = ldamodel.show_topic(topic_num)\n",
    "                topic_keywords = \", \".join([word for word, prop in wp])\n",
    "                topics_df = topics_df.append(pd.Series([int(topic_num), round(prop_topic,4), topic_keywords]),\n",
    "                                             ignore_index=True)\n",
    "            else:\n",
    "                break\n",
    "    topics_df.columns = ['Dominant_Topic', 'contribution_score', 'Topic_Word_List']\n",
    "\n",
    "    # Adding original texts to the end of the outcome\n",
    "    contents = pd.Series(texts)\n",
    "    topics_df = pd.concat([topics_df, contents], axis=1)\n",
    "    return(topics_df)\n",
    "\n",
    "#Function calling\n",
    "df_topic_sents_keywords = dominant_topic(ldamodel=lda_model, corpus=corpus, texts=d_list)\n",
    "df_dominant_topic = df_topic_sents_keywords.reset_index()\n",
    "df_dominant_topic.columns = ['Doc_No', 'Dominant_Topic', 'contribution_score',\n",
    "                             'Topic_Word_List', 'Text']\n",
    "print(\"Topic assignment to each text is completed\")\n",
    "df_dominant_topic.head(3)"
   ]
  },
  {
   "cell_type": "code",
   "execution_count": 17,
   "id": "e606e0ce",
   "metadata": {},
   "outputs": [
    {
     "data": {
      "text/plain": [
       "array(['debate, start, win, stop, presidential, exclusive, play, islamic_state, state, battle',\n",
       "       'become, high, move, trade, deal, fight, health, plan, share, stand',\n",
       "       'find, here, tell, death, kill, story, happen, live, life, ask',\n",
       "       'first, talk, lose, thing, meet, political, work, president, test, pick',\n",
       "       'attack, police, shoot, kill, look, report, break, source, arrest, dead',\n",
       "       'back, still, watch, speech, last, close, apple, mean, wrong, judge',\n",
       "       'die, case, republican, really, voter, problem, election, use, history, black',\n",
       "       'vote, fall, love, leave, review, brexit, money, challenge, issue, food',\n",
       "       'help, change, keep, policy, home, next, week, probe, return, order',\n",
       "       'woman, show, explain, government, photo, well, rally, head, sign, video'],\n",
       "      dtype=object)"
      ]
     },
     "execution_count": 17,
     "metadata": {},
     "output_type": "execute_result"
    }
   ],
   "source": [
    "df_dominant_topic[\"Topic_Word_List\"].unique()"
   ]
  },
  {
   "cell_type": "markdown",
   "id": "0016a87e",
   "metadata": {},
   "source": [
    "**Name the categorization based on the topic words**"
   ]
  },
  {
   "cell_type": "code",
   "execution_count": 19,
   "id": "608509dd",
   "metadata": {},
   "outputs": [],
   "source": [
    "df_topic = df_dominant_topic.copy()\n",
    "conditions = [\n",
    "    (df_topic[\"Topic_Word_List\"] == 'debate, start, win, stop, presidential, exclusive, play, islamic_state, state, battle'),\n",
    "    (df_topic[\"Topic_Word_List\"] == 'become, high, move, trade, deal, fight, health, plan, share, stand'),\n",
    "    (df_topic[\"Topic_Word_List\"] == 'find, here, tell, death, kill, story, happen, live, life, ask'),\n",
    "    (df_topic[\"Topic_Word_List\"] == 'first, talk, lose, thing, meet, political, work, president, test, pick'),\n",
    "    (df_topic[\"Topic_Word_List\"] == 'attack, police, shoot, kill, look, report, break, source, arrest, dead'),\n",
    "    (df_topic[\"Topic_Word_List\"] == 'back, still, watch, speech, last, close, apple, mean, wrong, judge'),\n",
    "    (df_topic[\"Topic_Word_List\"] == 'die, case, republican, really, voter, problem, election, use, history, black'),\n",
    "    (df_topic[\"Topic_Word_List\"] == 'vote, fall, love, leave, review, brexit, money, challenge, issue, food'),\n",
    "    (df_topic[\"Topic_Word_List\"] == 'help, change, keep, policy, home, next, week, probe, return, order'),\n",
    "    (df_topic[\"Topic_Word_List\"] == 'woman, show, explain, government, photo, well, rally, head, sign, video'),\n",
    "    ]\n",
    "#Name the topics based on obersvations to above\n",
    "values = [\"Conflicts\",\"Economic\",\"Life Events\",\"Politics\",\"Crime\",\"General\",\"Election\",\n",
    "          \"Current affiars\",\"Developement\",\"Exclusive\"]\n",
    "\n",
    "df_topic['News_category'] = np.select(conditions, values) #Now assign to each text"
   ]
  },
  {
   "cell_type": "markdown",
   "id": "7c3f589f",
   "metadata": {},
   "source": [
    "**Topics and their distribution accorss the entire news content**"
   ]
  },
  {
   "cell_type": "code",
   "execution_count": 20,
   "id": "f16d298d",
   "metadata": {},
   "outputs": [
    {
     "data": {
      "image/png": "[encoded data removed]",
      "text/plain": [
       "<Figure size 864x360 with 1 Axes>"
      ]
     },
     "metadata": {},
     "output_type": "display_data"
    }
   ],
   "source": [
    "# Create a pie chart using Matplotlib\n",
    "value_counts = df_topic[\"News_category\"].value_counts()\n",
    "plt.figure(figsize=(12,5))\n",
    "colors = ['#3F88C5', '#FFA07A', '#90EE90', '#D8BFD8', '#F08080',\n",
    "          '#FFDAB9', '#ADD8E6', '#FFB6C1', '#D3D3D3', '#B0C4DE']\n",
    "plt.pie(value_counts.values, labels=value_counts.index,colors=colors, autopct='%1.1f%%')\n",
    "plt.title('News Categories', fontweight='bold')\n",
    "plt.axis('equal')\n",
    "plt.show()"
   ]
  },
  {
   "cell_type": "markdown",
   "id": "e5726428",
   "metadata": {},
   "source": [
    "# Section IV"
   ]
  },
  {
   "cell_type": "markdown",
   "id": "b8f7d284",
   "metadata": {},
   "source": [
    "# **Sentimental Analysis on News Content**"
   ]
  },
  {
   "cell_type": "markdown",
   "id": "cc9f7dc5",
   "metadata": {},
   "source": [
    "**VADER to find sentiments**"
   ]
  },
  {
   "cell_type": "code",
   "execution_count": 22,
   "id": "5de23f00",
   "metadata": {},
   "outputs": [],
   "source": [
    "#nltk.download('vader_lexicon') #Its a Lexicon based approach\n",
    "def analyze_sentiments(df):\n",
    "    analyzer = SentimentIntensityAnalyzer()\n",
    "    df_p = df.copy()\n",
    "    df_p['polarity'] = df_p['content'].apply(lambda x: analyzer.polarity_scores(x))\n",
    "    df_p = pd.concat([df_p, df_p['polarity'].apply(pd.Series)], axis=1)\n",
    "    #Apply the rule now and classify\n",
    "    df_p['sentiment'] = df_p['compound'].apply(lambda x: 'positive' if x > 0 else 'negative')\n",
    "    return df_p\n",
    "\n",
    "df_p = analyze_sentiments(df_r)"
   ]
  },
  {
   "cell_type": "code",
   "execution_count": 24,
   "id": "ccab6805",
   "metadata": {},
   "outputs": [
    {
     "data": {
      "text/plain": [
       "positive    88161\n",
       "negative    54407\n",
       "Name: sentiment, dtype: int64"
      ]
     },
     "execution_count": 24,
     "metadata": {},
     "output_type": "execute_result"
    }
   ],
   "source": [
    "df_p[\"sentiment\"].value_counts()"
   ]
  },
  {
   "cell_type": "markdown",
   "id": "95203c83",
   "metadata": {},
   "source": [
    "# Section V"
   ]
  },
  {
   "cell_type": "markdown",
   "id": "a06543dd",
   "metadata": {},
   "source": [
    "# **Text Classification Modeling**"
   ]
  },
  {
   "cell_type": "raw",
   "id": "be3dc6c1",
   "metadata": {},
   "source": [
    "Using Random Forest, Logistic Regression and Naive Bayes, so that I can compare the performance of all three."
   ]
  },
  {
   "cell_type": "markdown",
   "id": "1b9a961e",
   "metadata": {},
   "source": [
    "**Train test split**"
   ]
  },
  {
   "cell_type": "code",
   "execution_count": 26,
   "id": "2c5accdb",
   "metadata": {},
   "outputs": [],
   "source": [
    "X = df_p['content']\n",
    "y = df_p['sentiment']\n",
    "\n",
    "\n",
    "Encoder = LabelEncoder()\n",
    "y = Encoder.fit_transform(y) #Encoding of Target to 0 and 1\n",
    "\n",
    "# Split into Training and Test sets\n",
    "X_train, X_test, y_train, y_test = train_test_split(X, y, test_size=0.20, \n",
    "                                                    random_state=42, stratify=df_p['sentiment'])"
   ]
  },
  {
   "cell_type": "markdown",
   "id": "fc86f5cd",
   "metadata": {},
   "source": [
    "**generate TF-IDF to get a matrix**"
   ]
  },
  {
   "cell_type": "code",
   "execution_count": 27,
   "id": "7faeb8a3",
   "metadata": {},
   "outputs": [],
   "source": [
    "tf_vectorizer = TfidfVectorizer(max_features=10000, ngram_range=(1,2)) # Top n Feature on the basis of Tf-Idf value\n",
    "\n",
    "X_train_tf = tf_vectorizer.fit_transform(X_train)\n",
    "\n",
    "X_test_tf = tf_vectorizer.transform(X_test)"
   ]
  },
  {
   "cell_type": "markdown",
   "id": "47e7f819",
   "metadata": {},
   "source": [
    "**Naive Bayes**"
   ]
  },
  {
   "cell_type": "code",
   "execution_count": 28,
   "id": "f48c0f6a",
   "metadata": {},
   "outputs": [
    {
     "name": "stdout",
     "output_type": "stream",
     "text": [
      "accuracy:   0.788\n"
     ]
    }
   ],
   "source": [
    "naive_bayes_classifier = MultinomialNB() #Model calling\n",
    "naive_bayes_classifier.fit(X_train_tf, y_train) #Fit to training data\n",
    "\n",
    "nb_pred_test = naive_bayes_classifier.predict(X_test_tf) #Test data prediction\n",
    "\n",
    "score1 = metrics.accuracy_score(y_test, nb_pred_test) #Check the accuracy\n",
    "print(\"accuracy:   %0.3f\" % score1)"
   ]
  },
  {
   "cell_type": "code",
   "execution_count": 29,
   "id": "71e011f0",
   "metadata": {},
   "outputs": [
    {
     "name": "stdout",
     "output_type": "stream",
     "text": [
      "accuracy:   0.794\n"
     ]
    }
   ],
   "source": [
    "nb_pred_train = naive_bayes_classifier.predict(X_train_tf) #This is train prediction to check\n",
    "\n",
    "# compute the performance measures\n",
    "score1 = metrics.accuracy_score(y_train, nb_pred_train) #Check the score\n",
    "print(\"accuracy:   %0.3f\" % score1)"
   ]
  },
  {
   "cell_type": "markdown",
   "id": "cd193e80",
   "metadata": {},
   "source": [
    "**Logistic Regression**"
   ]
  },
  {
   "cell_type": "code",
   "execution_count": 30,
   "id": "e768495e",
   "metadata": {},
   "outputs": [
    {
     "data": {
      "text/html": [
       "<style>#sk-container-id-1 {color: black;background-color: white;}#sk-container-id-1 pre{padding: 0;}#sk-container-id-1 div.sk-toggleable {background-color: white;}#sk-container-id-1 label.sk-toggleable__label {cursor: pointer;display: block;width: 100%;margin-bottom: 0;padding: 0.3em;box-sizing: border-box;text-align: center;}#sk-container-id-1 label.sk-toggleable__label-arrow:before {content: \"▸\";float: left;margin-right: 0.25em;color: #696969;}#sk-container-id-1 label.sk-toggleable__label-arrow:hover:before {color: black;}#sk-container-id-1 div.sk-estimator:hover label.sk-toggleable__label-arrow:before {color: black;}#sk-container-id-1 div.sk-toggleable__content {max-height: 0;max-width: 0;overflow: hidden;text-align: left;background-color: #f0f8ff;}#sk-container-id-1 div.sk-toggleable__content pre {margin: 0.2em;color: black;border-radius: 0.25em;background-color: #f0f8ff;}#sk-container-id-1 input.sk-toggleable__control:checked~div.sk-toggleable__content {max-height: 200px;max-width: 100%;overflow: auto;}#sk-container-id-1 input.sk-toggleable__control:checked~label.sk-toggleable__label-arrow:before {content: \"▾\";}#sk-container-id-1 div.sk-estimator input.sk-toggleable__control:checked~label.sk-toggleable__label {background-color: #d4ebff;}#sk-container-id-1 div.sk-label input.sk-toggleable__control:checked~label.sk-toggleable__label {background-color: #d4ebff;}#sk-container-id-1 input.sk-hidden--visually {border: 0;clip: rect(1px 1px 1px 1px);clip: rect(1px, 1px, 1px, 1px);height: 1px;margin: -1px;overflow: hidden;padding: 0;position: absolute;width: 1px;}#sk-container-id-1 div.sk-estimator {font-family: monospace;background-color: #f0f8ff;border: 1px dotted black;border-radius: 0.25em;box-sizing: border-box;margin-bottom: 0.5em;}#sk-container-id-1 div.sk-estimator:hover {background-color: #d4ebff;}#sk-container-id-1 div.sk-parallel-item::after {content: \"\";width: 100%;border-bottom: 1px solid gray;flex-grow: 1;}#sk-container-id-1 div.sk-label:hover label.sk-toggleable__label {background-color: #d4ebff;}#sk-container-id-1 div.sk-serial::before {content: \"\";position: absolute;border-left: 1px solid gray;box-sizing: border-box;top: 0;bottom: 0;left: 50%;z-index: 0;}#sk-container-id-1 div.sk-serial {display: flex;flex-direction: column;align-items: center;background-color: white;padding-right: 0.2em;padding-left: 0.2em;position: relative;}#sk-container-id-1 div.sk-item {position: relative;z-index: 1;}#sk-container-id-1 div.sk-parallel {display: flex;align-items: stretch;justify-content: center;background-color: white;position: relative;}#sk-container-id-1 div.sk-item::before, #sk-container-id-1 div.sk-parallel-item::before {content: \"\";position: absolute;border-left: 1px solid gray;box-sizing: border-box;top: 0;bottom: 0;left: 50%;z-index: -1;}#sk-container-id-1 div.sk-parallel-item {display: flex;flex-direction: column;z-index: 1;position: relative;background-color: white;}#sk-container-id-1 div.sk-parallel-item:first-child::after {align-self: flex-end;width: 50%;}#sk-container-id-1 div.sk-parallel-item:last-child::after {align-self: flex-start;width: 50%;}#sk-container-id-1 div.sk-parallel-item:only-child::after {width: 0;}#sk-container-id-1 div.sk-dashed-wrapped {border: 1px dashed gray;margin: 0 0.4em 0.5em 0.4em;box-sizing: border-box;padding-bottom: 0.4em;background-color: white;}#sk-container-id-1 div.sk-label label {font-family: monospace;font-weight: bold;display: inline-block;line-height: 1.2em;}#sk-container-id-1 div.sk-label-container {text-align: center;}#sk-container-id-1 div.sk-container {/* jupyter's `normalize.less` sets `[hidden] { display: none; }` but bootstrap.min.css set `[hidden] { display: none !important; }` so we also need the `!important` here to be able to override the default hidden behavior on the sphinx rendered scikit-learn.org. See: https://github.com/scikit-learn/scikit-learn/issues/21755 */display: inline-block !important;position: relative;}#sk-container-id-1 div.sk-text-repr-fallback {display: none;}</style><div id=\"sk-container-id-1\" class=\"sk-top-container\"><div class=\"sk-text-repr-fallback\"><pre>LogisticRegression()</pre><b>In a Jupyter environment, please rerun this cell to show the HTML representation or trust the notebook. <br />On GitHub, the HTML representation is unable to render, please try loading this page with nbviewer.org.</b></div><div class=\"sk-container\" hidden><div class=\"sk-item\"><div class=\"sk-estimator sk-toggleable\"><input class=\"sk-toggleable__control sk-hidden--visually\" id=\"sk-estimator-id-1\" type=\"checkbox\" checked><label for=\"sk-estimator-id-1\" class=\"sk-toggleable__label sk-toggleable__label-arrow\">LogisticRegression</label><div class=\"sk-toggleable__content\"><pre>LogisticRegression()</pre></div></div></div></div></div>"
      ],
      "text/plain": [
       "LogisticRegression()"
      ]
     },
     "execution_count": 30,
     "metadata": {},
     "output_type": "execute_result"
    }
   ],
   "source": [
    "lg_classifier = LogisticRegression() #Call logistic regression model\n",
    "lg_classifier.fit(X_train_tf, y_train) #Fit the training data"
   ]
  },
  {
   "cell_type": "code",
   "execution_count": 31,
   "id": "9b4dea41",
   "metadata": {},
   "outputs": [
    {
     "name": "stdout",
     "output_type": "stream",
     "text": [
      "Accuracy Training data: 92.3%\n",
      "Accuracy Test data: 90.4%\n"
     ]
    }
   ],
   "source": [
    "lg_pred_train = lg_classifier.predict(X_train_tf) #Predict the train data\n",
    "accuracy_train_tfidf = accuracy_score(y_train, lg_pred_train) #Check scoring\n",
    "print('Accuracy Training data: {:.1%}'.format(accuracy_train_tfidf))\n",
    "\n",
    "lg_pred_test = lg_classifier.predict(X_test_tf) #Predict the test data\n",
    "accuracy_test_tfidf = accuracy_score(y_test, lg_pred_test) #Check how it performs\n",
    "accuracy_tfidf = accuracy_test_tfidf\n",
    "print('Accuracy Test data: {:.1%}'.format(accuracy_test_tfidf))\n"
   ]
  },
  {
   "cell_type": "markdown",
   "id": "14a34d30",
   "metadata": {},
   "source": [
    "**Random Forest**"
   ]
  },
  {
   "cell_type": "code",
   "execution_count": 32,
   "id": "be453094",
   "metadata": {},
   "outputs": [
    {
     "data": {
      "text/html": [
       "<style>#sk-container-id-2 {color: black;background-color: white;}#sk-container-id-2 pre{padding: 0;}#sk-container-id-2 div.sk-toggleable {background-color: white;}#sk-container-id-2 label.sk-toggleable__label {cursor: pointer;display: block;width: 100%;margin-bottom: 0;padding: 0.3em;box-sizing: border-box;text-align: center;}#sk-container-id-2 label.sk-toggleable__label-arrow:before {content: \"▸\";float: left;margin-right: 0.25em;color: #696969;}#sk-container-id-2 label.sk-toggleable__label-arrow:hover:before {color: black;}#sk-container-id-2 div.sk-estimator:hover label.sk-toggleable__label-arrow:before {color: black;}#sk-container-id-2 div.sk-toggleable__content {max-height: 0;max-width: 0;overflow: hidden;text-align: left;background-color: #f0f8ff;}#sk-container-id-2 div.sk-toggleable__content pre {margin: 0.2em;color: black;border-radius: 0.25em;background-color: #f0f8ff;}#sk-container-id-2 input.sk-toggleable__control:checked~div.sk-toggleable__content {max-height: 200px;max-width: 100%;overflow: auto;}#sk-container-id-2 input.sk-toggleable__control:checked~label.sk-toggleable__label-arrow:before {content: \"▾\";}#sk-container-id-2 div.sk-estimator input.sk-toggleable__control:checked~label.sk-toggleable__label {background-color: #d4ebff;}#sk-container-id-2 div.sk-label input.sk-toggleable__control:checked~label.sk-toggleable__label {background-color: #d4ebff;}#sk-container-id-2 input.sk-hidden--visually {border: 0;clip: rect(1px 1px 1px 1px);clip: rect(1px, 1px, 1px, 1px);height: 1px;margin: -1px;overflow: hidden;padding: 0;position: absolute;width: 1px;}#sk-container-id-2 div.sk-estimator {font-family: monospace;background-color: #f0f8ff;border: 1px dotted black;border-radius: 0.25em;box-sizing: border-box;margin-bottom: 0.5em;}#sk-container-id-2 div.sk-estimator:hover {background-color: #d4ebff;}#sk-container-id-2 div.sk-parallel-item::after {content: \"\";width: 100%;border-bottom: 1px solid gray;flex-grow: 1;}#sk-container-id-2 div.sk-label:hover label.sk-toggleable__label {background-color: #d4ebff;}#sk-container-id-2 div.sk-serial::before {content: \"\";position: absolute;border-left: 1px solid gray;box-sizing: border-box;top: 0;bottom: 0;left: 50%;z-index: 0;}#sk-container-id-2 div.sk-serial {display: flex;flex-direction: column;align-items: center;background-color: white;padding-right: 0.2em;padding-left: 0.2em;position: relative;}#sk-container-id-2 div.sk-item {position: relative;z-index: 1;}#sk-container-id-2 div.sk-parallel {display: flex;align-items: stretch;justify-content: center;background-color: white;position: relative;}#sk-container-id-2 div.sk-item::before, #sk-container-id-2 div.sk-parallel-item::before {content: \"\";position: absolute;border-left: 1px solid gray;box-sizing: border-box;top: 0;bottom: 0;left: 50%;z-index: -1;}#sk-container-id-2 div.sk-parallel-item {display: flex;flex-direction: column;z-index: 1;position: relative;background-color: white;}#sk-container-id-2 div.sk-parallel-item:first-child::after {align-self: flex-end;width: 50%;}#sk-container-id-2 div.sk-parallel-item:last-child::after {align-self: flex-start;width: 50%;}#sk-container-id-2 div.sk-parallel-item:only-child::after {width: 0;}#sk-container-id-2 div.sk-dashed-wrapped {border: 1px dashed gray;margin: 0 0.4em 0.5em 0.4em;box-sizing: border-box;padding-bottom: 0.4em;background-color: white;}#sk-container-id-2 div.sk-label label {font-family: monospace;font-weight: bold;display: inline-block;line-height: 1.2em;}#sk-container-id-2 div.sk-label-container {text-align: center;}#sk-container-id-2 div.sk-container {/* jupyter's `normalize.less` sets `[hidden] { display: none; }` but bootstrap.min.css set `[hidden] { display: none !important; }` so we also need the `!important` here to be able to override the default hidden behavior on the sphinx rendered scikit-learn.org. See: https://github.com/scikit-learn/scikit-learn/issues/21755 */display: inline-block !important;position: relative;}#sk-container-id-2 div.sk-text-repr-fallback {display: none;}</style><div id=\"sk-container-id-2\" class=\"sk-top-container\"><div class=\"sk-text-repr-fallback\"><pre>RandomForestClassifier()</pre><b>In a Jupyter environment, please rerun this cell to show the HTML representation or trust the notebook. <br />On GitHub, the HTML representation is unable to render, please try loading this page with nbviewer.org.</b></div><div class=\"sk-container\" hidden><div class=\"sk-item\"><div class=\"sk-estimator sk-toggleable\"><input class=\"sk-toggleable__control sk-hidden--visually\" id=\"sk-estimator-id-2\" type=\"checkbox\" checked><label for=\"sk-estimator-id-2\" class=\"sk-toggleable__label sk-toggleable__label-arrow\">RandomForestClassifier</label><div class=\"sk-toggleable__content\"><pre>RandomForestClassifier()</pre></div></div></div></div></div>"
      ],
      "text/plain": [
       "RandomForestClassifier()"
      ]
     },
     "execution_count": 32,
     "metadata": {},
     "output_type": "execute_result"
    }
   ],
   "source": [
    "rf_classifier = RandomForestClassifier() #Call Random Forest model\n",
    "rf_classifier.fit(X_train_tf, y_train) #Fit the training data"
   ]
  },
  {
   "cell_type": "code",
   "execution_count": 33,
   "id": "ba70ce4f",
   "metadata": {},
   "outputs": [
    {
     "name": "stdout",
     "output_type": "stream",
     "text": [
      "Accuracy Training data: 100.0%\n",
      "Accuracy Test data: 81.3%\n"
     ]
    }
   ],
   "source": [
    "rf_pred_train = rf_classifier.predict(X_train_tf) #predict training data\n",
    "accuracy_train_rf = accuracy_score(y_train, rf_pred_train) #Score\n",
    "print('Accuracy Training data: {:.1%}'.format(accuracy_train_rf))\n",
    "\n",
    "rf_pred_test = rf_classifier.predict(X_test_tf) #Evaluate test data\n",
    "accuracy_test_rf = accuracy_score(y_test, rf_pred_test) #Scoring check\n",
    "#accuracy_test_rf = accuracy_test_rf\n",
    "print('Accuracy Test data: {:.1%}'.format(accuracy_test_rf))"
   ]
  },
  {
   "cell_type": "markdown",
   "id": "0609b199",
   "metadata": {},
   "source": [
    "# Section VI"
   ]
  },
  {
   "cell_type": "markdown",
   "id": "fe6fd704",
   "metadata": {},
   "source": [
    "# **Performance matric**"
   ]
  },
  {
   "cell_type": "raw",
   "id": "c7666dad",
   "metadata": {},
   "source": [
    "In report I have kept only 1 image and 2 tables so total 3 figures as asked. Here in code for each algorithm i had to extract confusion matrix and classification report for evaluation purpose. From each of these, i manually noted the values and created a single table in the report(Test data) because i had to be allinged with total 3 figures in report."
   ]
  },
  {
   "cell_type": "markdown",
   "id": "97536bf9",
   "metadata": {},
   "source": [
    "**Naive Bayes**"
   ]
  },
  {
   "cell_type": "markdown",
   "id": "82395e7e",
   "metadata": {},
   "source": [
    "**Train**"
   ]
  },
  {
   "cell_type": "markdown",
   "id": "020af318",
   "metadata": {},
   "source": [
    "**Classification report**"
   ]
  },
  {
   "cell_type": "code",
   "execution_count": 34,
   "id": "27a00095",
   "metadata": {},
   "outputs": [
    {
     "name": "stdout",
     "output_type": "stream",
     "text": [
      "              precision    recall  f1-score   support\n",
      "\n",
      "           0       0.78      0.64      0.70     43525\n",
      "           1       0.80      0.89      0.84     70529\n",
      "\n",
      "    accuracy                           0.79    114054\n",
      "   macro avg       0.79      0.76      0.77    114054\n",
      "weighted avg       0.79      0.79      0.79    114054\n",
      "\n"
     ]
    }
   ],
   "source": [
    "print(classification_report(y_train,nb_pred_train))"
   ]
  },
  {
   "cell_type": "markdown",
   "id": "a03439cf",
   "metadata": {},
   "source": [
    "**Test**"
   ]
  },
  {
   "cell_type": "markdown",
   "id": "6a32bb31",
   "metadata": {},
   "source": [
    "**Classification report**"
   ]
  },
  {
   "cell_type": "code",
   "execution_count": 36,
   "id": "bc261ddf",
   "metadata": {},
   "outputs": [
    {
     "name": "stdout",
     "output_type": "stream",
     "text": [
      "              precision    recall  f1-score   support\n",
      "\n",
      "           0       0.77      0.63      0.69     10882\n",
      "           1       0.79      0.89      0.84     17632\n",
      "\n",
      "    accuracy                           0.79     28514\n",
      "   macro avg       0.78      0.76      0.77     28514\n",
      "weighted avg       0.79      0.79      0.78     28514\n",
      "\n"
     ]
    }
   ],
   "source": [
    "print(classification_report(y_test,nb_pred_test))"
   ]
  },
  {
   "cell_type": "code",
   "execution_count": 37,
   "id": "4b5a0538",
   "metadata": {},
   "outputs": [
    {
     "data": {
      "image/png": "[encoded data removed]",
      "text/plain": [
       "<Figure size 432x288 with 2 Axes>"
      ]
     },
     "metadata": {
      "needs_background": "light"
     },
     "output_type": "display_data"
    }
   ],
   "source": [
    "sns.heatmap(confusion_matrix(y_test,nb_pred_test),annot=True,fmt='.5g');"
   ]
  },
  {
   "cell_type": "markdown",
   "id": "954bc31c",
   "metadata": {},
   "source": [
    "**Logistic regression**"
   ]
  },
  {
   "cell_type": "markdown",
   "id": "5ef53a6a",
   "metadata": {},
   "source": [
    "**Train**"
   ]
  },
  {
   "cell_type": "code",
   "execution_count": 38,
   "id": "76d857c7",
   "metadata": {},
   "outputs": [
    {
     "name": "stdout",
     "output_type": "stream",
     "text": [
      "              precision    recall  f1-score   support\n",
      "\n",
      "           0       0.93      0.86      0.90     43525\n",
      "           1       0.92      0.96      0.94     70529\n",
      "\n",
      "    accuracy                           0.92    114054\n",
      "   macro avg       0.93      0.91      0.92    114054\n",
      "weighted avg       0.92      0.92      0.92    114054\n",
      "\n"
     ]
    }
   ],
   "source": [
    "print(classification_report(y_train,lg_pred_train))"
   ]
  },
  {
   "cell_type": "markdown",
   "id": "e87ef16a",
   "metadata": {},
   "source": [
    "**Test**"
   ]
  },
  {
   "cell_type": "code",
   "execution_count": 40,
   "id": "6066c550",
   "metadata": {},
   "outputs": [
    {
     "name": "stdout",
     "output_type": "stream",
     "text": [
      "              precision    recall  f1-score   support\n",
      "\n",
      "           0       0.91      0.83      0.87     10882\n",
      "           1       0.90      0.95      0.92     17632\n",
      "\n",
      "    accuracy                           0.90     28514\n",
      "   macro avg       0.91      0.89      0.90     28514\n",
      "weighted avg       0.90      0.90      0.90     28514\n",
      "\n"
     ]
    }
   ],
   "source": [
    "print(classification_report(y_test,lg_pred_test))"
   ]
  },
  {
   "cell_type": "code",
   "execution_count": 41,
   "id": "c1987ffa",
   "metadata": {},
   "outputs": [
    {
     "data": {
      "image/png": "[encoded data removed]",
      "text/plain": [
       "<Figure size 432x288 with 2 Axes>"
      ]
     },
     "metadata": {
      "needs_background": "light"
     },
     "output_type": "display_data"
    }
   ],
   "source": [
    "sns.heatmap(confusion_matrix(y_test,lg_pred_test),annot=True,fmt='5g');"
   ]
  },
  {
   "cell_type": "markdown",
   "id": "07ea0760",
   "metadata": {},
   "source": [
    "**Random Forest**"
   ]
  },
  {
   "cell_type": "markdown",
   "id": "140376cc",
   "metadata": {},
   "source": [
    "**Train**"
   ]
  },
  {
   "cell_type": "code",
   "execution_count": 42,
   "id": "f5ef4d94",
   "metadata": {},
   "outputs": [
    {
     "name": "stdout",
     "output_type": "stream",
     "text": [
      "              precision    recall  f1-score   support\n",
      "\n",
      "           0       1.00      1.00      1.00     43525\n",
      "           1       1.00      1.00      1.00     70529\n",
      "\n",
      "    accuracy                           1.00    114054\n",
      "   macro avg       1.00      1.00      1.00    114054\n",
      "weighted avg       1.00      1.00      1.00    114054\n",
      "\n"
     ]
    }
   ],
   "source": [
    "print(classification_report(y_train,rf_pred_train))"
   ]
  },
  {
   "cell_type": "markdown",
   "id": "546bfa0e",
   "metadata": {},
   "source": [
    "**Test**"
   ]
  },
  {
   "cell_type": "code",
   "execution_count": 44,
   "id": "aa087605",
   "metadata": {},
   "outputs": [
    {
     "name": "stdout",
     "output_type": "stream",
     "text": [
      "              precision    recall  f1-score   support\n",
      "\n",
      "           0       0.84      0.63      0.72     10882\n",
      "           1       0.80      0.93      0.86     17632\n",
      "\n",
      "    accuracy                           0.81     28514\n",
      "   macro avg       0.82      0.78      0.79     28514\n",
      "weighted avg       0.82      0.81      0.81     28514\n",
      "\n"
     ]
    }
   ],
   "source": [
    "print(classification_report(y_test,rf_pred_test));"
   ]
  },
  {
   "cell_type": "code",
   "execution_count": 45,
   "id": "fe0a42ec",
   "metadata": {},
   "outputs": [
    {
     "data": {
      "image/png": "[encoded data removed]",
      "text/plain": [
       "<Figure size 432x288 with 2 Axes>"
      ]
     },
     "metadata": {
      "needs_background": "light"
     },
     "output_type": "display_data"
    }
   ],
   "source": [
    "sns.heatmap(confusion_matrix(y_test,rf_pred_test),annot=True,fmt='5g');"
   ]
  },
  {
   "cell_type": "markdown",
   "id": "7ecf1d4f",
   "metadata": {},
   "source": [
    "**AUC Score Comparisions**"
   ]
  },
  {
   "cell_type": "code",
   "execution_count": 46,
   "id": "bf13d54e",
   "metadata": {},
   "outputs": [
    {
     "name": "stdout",
     "output_type": "stream",
     "text": [
      "NB 0.8607221938374731\n",
      "LG 0.9699192621825748\n",
      "RF 0.8964189320865206\n"
     ]
    }
   ],
   "source": [
    "probs=naive_bayes_classifier.predict_proba(X_test_tf)\n",
    "probs=probs[:,1]\n",
    "auc_NB_test=roc_auc_score(y_test,probs)\n",
    "test_fpr_nb,test_tpr_nb,test_thershold_nb=roc_curve(y_test,probs)\n",
    "\n",
    "probs=lg_classifier.predict_proba(X_test_tf)\n",
    "probs=probs[:,1]\n",
    "auc_LG_test=roc_auc_score(y_test,probs)\n",
    "test_fpr_lg,test_tpr_lg,test_thershold_lg=roc_curve(y_test,probs)\n",
    "\n",
    "probs=rf_classifier.predict_proba(X_test_tf)\n",
    "probs=probs[:,1]\n",
    "auc_RF_test=roc_auc_score(y_test,probs)\n",
    "test_fpr_rf,test_tpr_rf,test_thershold_rf=roc_curve(y_test,probs)\n",
    "\n",
    "print(\"NB\",auc_NB_test)\n",
    "print(\"LG\",auc_LG_test)\n",
    "print(\"RF\",auc_RF_test)"
   ]
  },
  {
   "cell_type": "code",
   "execution_count": 47,
   "id": "1adddfd9",
   "metadata": {},
   "outputs": [
    {
     "data": {
      "text/html": [
       "<style  type=\"text/css\" >\n",
       "#T_0e789_row0_col0,#T_0e789_row0_col1,#T_0e789_row0_col2,#T_0e789_row0_col3,#T_0e789_row0_col4{\n",
       "            background-color:  #ebf3eb;\n",
       "            color:  #000000;\n",
       "        }#T_0e789_row1_col0,#T_0e789_row1_col1,#T_0e789_row1_col2,#T_0e789_row1_col3,#T_0e789_row1_col4{\n",
       "            background-color:  #008000;\n",
       "            color:  #f1f1f1;\n",
       "        }#T_0e789_row2_col0{\n",
       "            background-color:  #c0dec0;\n",
       "            color:  #000000;\n",
       "        }#T_0e789_row2_col1{\n",
       "            background-color:  #4ea64e;\n",
       "            color:  #000000;\n",
       "        }#T_0e789_row2_col2{\n",
       "            background-color:  #d5e9d5;\n",
       "            color:  #000000;\n",
       "        }#T_0e789_row2_col3{\n",
       "            background-color:  #b0d6b0;\n",
       "            color:  #000000;\n",
       "        }#T_0e789_row2_col4{\n",
       "            background-color:  #a5d1a5;\n",
       "            color:  #000000;\n",
       "        }</style><table id=\"T_0e789_\" ><thead>    <tr>        <th class=\"blank level0\" ></th>        <th class=\"col_heading level0 col0\" >Test_Accuracy</th>        <th class=\"col_heading level0 col1\" >Test_Recall</th>        <th class=\"col_heading level0 col2\" >Test_precision</th>        <th class=\"col_heading level0 col3\" >Test_f1</th>        <th class=\"col_heading level0 col4\" >Test_AUC</th>    </tr></thead><tbody>\n",
       "                <tr>\n",
       "                        <th id=\"T_0e789_level0_row0\" class=\"row_heading level0 row0\" >Naive Bayes</th>\n",
       "                        <td id=\"T_0e789_row0_col0\" class=\"data row0 col0\" >0.79</td>\n",
       "                        <td id=\"T_0e789_row0_col1\" class=\"data row0 col1\" >0.89</td>\n",
       "                        <td id=\"T_0e789_row0_col2\" class=\"data row0 col2\" >0.79</td>\n",
       "                        <td id=\"T_0e789_row0_col3\" class=\"data row0 col3\" >0.84</td>\n",
       "                        <td id=\"T_0e789_row0_col4\" class=\"data row0 col4\" >0.86</td>\n",
       "            </tr>\n",
       "            <tr>\n",
       "                        <th id=\"T_0e789_level0_row1\" class=\"row_heading level0 row1\" >Logistic Regression</th>\n",
       "                        <td id=\"T_0e789_row1_col0\" class=\"data row1 col0\" >0.90</td>\n",
       "                        <td id=\"T_0e789_row1_col1\" class=\"data row1 col1\" >0.95</td>\n",
       "                        <td id=\"T_0e789_row1_col2\" class=\"data row1 col2\" >0.90</td>\n",
       "                        <td id=\"T_0e789_row1_col3\" class=\"data row1 col3\" >0.92</td>\n",
       "                        <td id=\"T_0e789_row1_col4\" class=\"data row1 col4\" >0.96</td>\n",
       "            </tr>\n",
       "            <tr>\n",
       "                        <th id=\"T_0e789_level0_row2\" class=\"row_heading level0 row2\" >Random Forest</th>\n",
       "                        <td id=\"T_0e789_row2_col0\" class=\"data row2 col0\" >0.81</td>\n",
       "                        <td id=\"T_0e789_row2_col1\" class=\"data row2 col1\" >0.93</td>\n",
       "                        <td id=\"T_0e789_row2_col2\" class=\"data row2 col2\" >0.80</td>\n",
       "                        <td id=\"T_0e789_row2_col3\" class=\"data row2 col3\" >0.86</td>\n",
       "                        <td id=\"T_0e789_row2_col4\" class=\"data row2 col4\" >0.89</td>\n",
       "            </tr>\n",
       "    </tbody></table>"
      ],
      "text/plain": [
       "<pandas.io.formats.style.Styler at 0x254c022a670>"
      ]
     },
     "execution_count": 47,
     "metadata": {},
     "output_type": "execute_result"
    }
   ],
   "source": [
    "#All these scores are manually written from above extracted tables and images and manually writen in the report too\n",
    "test_scores=[0.79,0.90,0.81]\n",
    "recall_test=[0.89,0.95,0.93]\n",
    "precision_test=[0.79,0.90,0.80]\n",
    "f1score_test=[0.84,0.92,0.86]\n",
    "auc_test=[0.86,0.96,0.89]\n",
    "performance_comp=(pd.DataFrame({'Test_Accuracy': test_scores,'Test_Recall': recall_test,\n",
    "                                'Test_precision': precision_test,'Test_f1': f1score_test,'Test_AUC': auc_test},\n",
    "            index=['Naive Bayes','Logistic Regression','Random Forest']))\n",
    "cm = sns.light_palette(\"green\", as_cmap=True)\n",
    "performance_comp.style.background_gradient(cmap=cm).set_precision(2)"
   ]
  },
  {
   "cell_type": "markdown",
   "id": "6b828415",
   "metadata": {},
   "source": [
    "# Section VII"
   ]
  },
  {
   "cell_type": "markdown",
   "id": "070487d5",
   "metadata": {},
   "source": [
    "# **Combining Topic and sentiment**"
   ]
  },
  {
   "cell_type": "code",
   "execution_count": 48,
   "id": "134f9016",
   "metadata": {},
   "outputs": [],
   "source": [
    "df_p = df_p.reset_index()\n",
    "df_topic = df_topic.reset_index()\n",
    "df_combine = pd.concat([df_p,df_topic],axis=1) #Combined sentiment and topic modeling "
   ]
  },
  {
   "cell_type": "code",
   "execution_count": 49,
   "id": "93887141",
   "metadata": {},
   "outputs": [
    {
     "data": {
      "text/html": [
       "<div>\n",
       "<style scoped>\n",
       "    .dataframe tbody tr th:only-of-type {\n",
       "        vertical-align: middle;\n",
       "    }\n",
       "\n",
       "    .dataframe tbody tr th {\n",
       "        vertical-align: top;\n",
       "    }\n",
       "\n",
       "    .dataframe thead th {\n",
       "        text-align: right;\n",
       "    }\n",
       "</style>\n",
       "<table border=\"1\" class=\"dataframe\">\n",
       "  <thead>\n",
       "    <tr style=\"text-align: right;\">\n",
       "      <th></th>\n",
       "      <th>index</th>\n",
       "      <th>title</th>\n",
       "      <th>content</th>\n",
       "      <th>polarity</th>\n",
       "      <th>neg</th>\n",
       "      <th>neu</th>\n",
       "      <th>pos</th>\n",
       "      <th>compound</th>\n",
       "      <th>sentiment</th>\n",
       "      <th>index</th>\n",
       "      <th>Doc_No</th>\n",
       "      <th>Dominant_Topic</th>\n",
       "      <th>contribution_score</th>\n",
       "      <th>Topic_Word_List</th>\n",
       "      <th>Text</th>\n",
       "      <th>News_category</th>\n",
       "    </tr>\n",
       "  </thead>\n",
       "  <tbody>\n",
       "    <tr>\n",
       "      <th>0</th>\n",
       "      <td>0</td>\n",
       "      <td>house republicans fret winning health care sui...</td>\n",
       "      <td>washington congressional republican fear come ...</td>\n",
       "      <td>{'neg': 0.148, 'neu': 0.695, 'pos': 0.158, 'co...</td>\n",
       "      <td>0.148</td>\n",
       "      <td>0.695</td>\n",
       "      <td>0.158</td>\n",
       "      <td>0.1803</td>\n",
       "      <td>positive</td>\n",
       "      <td>0</td>\n",
       "      <td>0</td>\n",
       "      <td>7.0</td>\n",
       "      <td>0.3668</td>\n",
       "      <td>debate, start, win, stop, presidential, exclus...</td>\n",
       "      <td>[house, republicans, fret, winning, health, ca...</td>\n",
       "      <td>Conflicts</td>\n",
       "    </tr>\n",
       "  </tbody>\n",
       "</table>\n",
       "</div>"
      ],
      "text/plain": [
       "   index                                              title  \\\n",
       "0      0  house republicans fret winning health care sui...   \n",
       "\n",
       "                                             content  \\\n",
       "0  washington congressional republican fear come ...   \n",
       "\n",
       "                                            polarity    neg    neu    pos  \\\n",
       "0  {'neg': 0.148, 'neu': 0.695, 'pos': 0.158, 'co...  0.148  0.695  0.158   \n",
       "\n",
       "   compound sentiment  index  Doc_No  Dominant_Topic  contribution_score  \\\n",
       "0    0.1803  positive      0       0             7.0              0.3668   \n",
       "\n",
       "                                     Topic_Word_List  \\\n",
       "0  debate, start, win, stop, presidential, exclus...   \n",
       "\n",
       "                                                Text News_category  \n",
       "0  [house, republicans, fret, winning, health, ca...     Conflicts  "
      ]
     },
     "execution_count": 49,
     "metadata": {},
     "output_type": "execute_result"
    }
   ],
   "source": [
    "df_combine.head(1)"
   ]
  },
  {
   "cell_type": "code",
   "execution_count": 50,
   "id": "9945238c",
   "metadata": {},
   "outputs": [],
   "source": [
    "df_combine.drop([\"index\",\"polarity\",\"neg\",\"neu\",\"pos\",\"compound\",\"Doc_No\",\"Dominant_Topic\",\n",
    "                 \"contribution_score\",\"Topic_Word_List\",\"Text\"],inplace=True,axis=1)"
   ]
  },
  {
   "cell_type": "code",
   "execution_count": 51,
   "id": "7251d098",
   "metadata": {},
   "outputs": [
    {
     "data": {
      "text/html": [
       "<div>\n",
       "<style scoped>\n",
       "    .dataframe tbody tr th:only-of-type {\n",
       "        vertical-align: middle;\n",
       "    }\n",
       "\n",
       "    .dataframe tbody tr th {\n",
       "        vertical-align: top;\n",
       "    }\n",
       "\n",
       "    .dataframe thead th {\n",
       "        text-align: right;\n",
       "    }\n",
       "</style>\n",
       "<table border=\"1\" class=\"dataframe\">\n",
       "  <thead>\n",
       "    <tr style=\"text-align: right;\">\n",
       "      <th></th>\n",
       "      <th>title</th>\n",
       "      <th>content</th>\n",
       "      <th>sentiment</th>\n",
       "      <th>News_category</th>\n",
       "    </tr>\n",
       "  </thead>\n",
       "  <tbody>\n",
       "    <tr>\n",
       "      <th>0</th>\n",
       "      <td>house republicans fret winning health care sui...</td>\n",
       "      <td>washington congressional republican fear come ...</td>\n",
       "      <td>positive</td>\n",
       "      <td>Conflicts</td>\n",
       "    </tr>\n",
       "  </tbody>\n",
       "</table>\n",
       "</div>"
      ],
      "text/plain": [
       "                                               title  \\\n",
       "0  house republicans fret winning health care sui...   \n",
       "\n",
       "                                             content sentiment News_category  \n",
       "0  washington congressional republican fear come ...  positive     Conflicts  "
      ]
     },
     "execution_count": 51,
     "metadata": {},
     "output_type": "execute_result"
    }
   ],
   "source": [
    "df_combine.head(1)"
   ]
  },
  {
   "cell_type": "code",
   "execution_count": 52,
   "id": "c3b6c768",
   "metadata": {},
   "outputs": [
    {
     "data": {
      "text/html": [
       "<div>\n",
       "<style scoped>\n",
       "    .dataframe tbody tr th:only-of-type {\n",
       "        vertical-align: middle;\n",
       "    }\n",
       "\n",
       "    .dataframe tbody tr th {\n",
       "        vertical-align: top;\n",
       "    }\n",
       "\n",
       "    .dataframe thead th {\n",
       "        text-align: right;\n",
       "    }\n",
       "</style>\n",
       "<table border=\"1\" class=\"dataframe\">\n",
       "  <thead>\n",
       "    <tr style=\"text-align: right;\">\n",
       "      <th></th>\n",
       "      <th></th>\n",
       "      <th>title</th>\n",
       "      <th>content</th>\n",
       "    </tr>\n",
       "    <tr>\n",
       "      <th>News_category</th>\n",
       "      <th>sentiment</th>\n",
       "      <th></th>\n",
       "      <th></th>\n",
       "    </tr>\n",
       "  </thead>\n",
       "  <tbody>\n",
       "    <tr>\n",
       "      <th rowspan=\"2\" valign=\"top\">Conflicts</th>\n",
       "      <th>negative</th>\n",
       "      <td>5262</td>\n",
       "      <td>5262</td>\n",
       "    </tr>\n",
       "    <tr>\n",
       "      <th>positive</th>\n",
       "      <td>8137</td>\n",
       "      <td>8137</td>\n",
       "    </tr>\n",
       "    <tr>\n",
       "      <th rowspan=\"2\" valign=\"top\">Crime</th>\n",
       "      <th>negative</th>\n",
       "      <td>8641</td>\n",
       "      <td>8641</td>\n",
       "    </tr>\n",
       "    <tr>\n",
       "      <th>positive</th>\n",
       "      <td>6627</td>\n",
       "      <td>6627</td>\n",
       "    </tr>\n",
       "    <tr>\n",
       "      <th rowspan=\"2\" valign=\"top\">Current affiars</th>\n",
       "      <th>negative</th>\n",
       "      <td>4969</td>\n",
       "      <td>4969</td>\n",
       "    </tr>\n",
       "    <tr>\n",
       "      <th>positive</th>\n",
       "      <td>11430</td>\n",
       "      <td>11430</td>\n",
       "    </tr>\n",
       "    <tr>\n",
       "      <th rowspan=\"2\" valign=\"top\">Developement</th>\n",
       "      <th>negative</th>\n",
       "      <td>4504</td>\n",
       "      <td>4504</td>\n",
       "    </tr>\n",
       "    <tr>\n",
       "      <th>positive</th>\n",
       "      <td>8619</td>\n",
       "      <td>8619</td>\n",
       "    </tr>\n",
       "    <tr>\n",
       "      <th rowspan=\"2\" valign=\"top\">Economic</th>\n",
       "      <th>negative</th>\n",
       "      <td>4457</td>\n",
       "      <td>4457</td>\n",
       "    </tr>\n",
       "    <tr>\n",
       "      <th>positive</th>\n",
       "      <td>9145</td>\n",
       "      <td>9145</td>\n",
       "    </tr>\n",
       "    <tr>\n",
       "      <th rowspan=\"2\" valign=\"top\">Election</th>\n",
       "      <th>negative</th>\n",
       "      <td>5397</td>\n",
       "      <td>5397</td>\n",
       "    </tr>\n",
       "    <tr>\n",
       "      <th>positive</th>\n",
       "      <td>8944</td>\n",
       "      <td>8944</td>\n",
       "    </tr>\n",
       "    <tr>\n",
       "      <th rowspan=\"2\" valign=\"top\">Exclusive</th>\n",
       "      <th>negative</th>\n",
       "      <td>5122</td>\n",
       "      <td>5122</td>\n",
       "    </tr>\n",
       "    <tr>\n",
       "      <th>positive</th>\n",
       "      <td>7813</td>\n",
       "      <td>7813</td>\n",
       "    </tr>\n",
       "    <tr>\n",
       "      <th rowspan=\"2\" valign=\"top\">General</th>\n",
       "      <th>negative</th>\n",
       "      <td>4810</td>\n",
       "      <td>4810</td>\n",
       "    </tr>\n",
       "    <tr>\n",
       "      <th>positive</th>\n",
       "      <td>9530</td>\n",
       "      <td>9530</td>\n",
       "    </tr>\n",
       "    <tr>\n",
       "      <th rowspan=\"2\" valign=\"top\">Life Events</th>\n",
       "      <th>negative</th>\n",
       "      <td>6451</td>\n",
       "      <td>6451</td>\n",
       "    </tr>\n",
       "    <tr>\n",
       "      <th>positive</th>\n",
       "      <td>8222</td>\n",
       "      <td>8222</td>\n",
       "    </tr>\n",
       "    <tr>\n",
       "      <th rowspan=\"2\" valign=\"top\">Politics</th>\n",
       "      <th>negative</th>\n",
       "      <td>4794</td>\n",
       "      <td>4794</td>\n",
       "    </tr>\n",
       "    <tr>\n",
       "      <th>positive</th>\n",
       "      <td>9694</td>\n",
       "      <td>9694</td>\n",
       "    </tr>\n",
       "  </tbody>\n",
       "</table>\n",
       "</div>"
      ],
      "text/plain": [
       "                           title  content\n",
       "News_category   sentiment                \n",
       "Conflicts       negative    5262     5262\n",
       "                positive    8137     8137\n",
       "Crime           negative    8641     8641\n",
       "                positive    6627     6627\n",
       "Current affiars negative    4969     4969\n",
       "                positive   11430    11430\n",
       "Developement    negative    4504     4504\n",
       "                positive    8619     8619\n",
       "Economic        negative    4457     4457\n",
       "                positive    9145     9145\n",
       "Election        negative    5397     5397\n",
       "                positive    8944     8944\n",
       "Exclusive       negative    5122     5122\n",
       "                positive    7813     7813\n",
       "General         negative    4810     4810\n",
       "                positive    9530     9530\n",
       "Life Events     negative    6451     6451\n",
       "                positive    8222     8222\n",
       "Politics        negative    4794     4794\n",
       "                positive    9694     9694"
      ]
     },
     "execution_count": 52,
     "metadata": {},
     "output_type": "execute_result"
    }
   ],
   "source": [
    "df_combine.groupby(['News_category', 'sentiment']).count() #After deleting all unwanted columns from both, this is final one"
   ]
  }
 ],
 "metadata": {
  "kernelspec": {
   "display_name": "Python 3",
   "language": "python",
   "name": "python3"
  },
  "language_info": {
   "codemirror_mode": {
    "name": "ipython",
    "version": 3
   },
   "file_extension": ".py",
   "mimetype": "text/x-python",
   "name": "python",
   "nbconvert_exporter": "python",
   "pygments_lexer": "ipython3",
   "version": "3.8.8"
  }
 },
 "nbformat": 4,
 "nbformat_minor": 5
}
